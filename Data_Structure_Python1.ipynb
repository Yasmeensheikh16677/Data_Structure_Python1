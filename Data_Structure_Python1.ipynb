{
 "cells": [
  {
   "cell_type": "code",
   "execution_count": 17,
   "id": "0ec60956-0e68-409d-a497-db6157c8219d",
   "metadata": {},
   "outputs": [],
   "source": [
    "#1. Write a code to reverse a string"
   ]
  },
  {
   "cell_type": "code",
   "execution_count": 16,
   "id": "74813400-8004-4144-b7b8-91ca4a4928c6",
   "metadata": {},
   "outputs": [
    {
     "name": "stdout",
     "output_type": "stream",
     "text": [
      "lautcup dna gnikrow drah yrev si neemsaY\n"
     ]
    }
   ],
   "source": [
    "a=\"Yasmeen is very hard working and puctual\"[::-1]\n",
    "print(a)"
   ]
  },
  {
   "cell_type": "code",
   "execution_count": 18,
   "id": "c26cefdd-2d60-4ad7-8b4f-cd3c24c3d597",
   "metadata": {},
   "outputs": [],
   "source": [
    "#2.Write a code to count the number of vowel in a string"
   ]
  },
  {
   "cell_type": "code",
   "execution_count": 34,
   "id": "e3eb467f-a984-4fe8-ac34-5d604195122e",
   "metadata": {},
   "outputs": [
    {
     "name": "stdout",
     "output_type": "stream",
     "text": [
      "Total vowels are:\n",
      "12\n"
     ]
    }
   ],
   "source": [
    "a=\"Yasmeen is very hard working and puctual\"\n",
    "vowel=0\n",
    "for i in a:\n",
    "    if (i=='a' or i=='e' or i=='i' or i=='o' or i=='u'):\n",
    "        vowel=vowel+1\n",
    "print(\"Total vowels are:\")\n",
    "print(vowel)\n"
   ]
  },
  {
   "cell_type": "code",
   "execution_count": 35,
   "id": "6ba15198-9e93-475d-8124-298ffb1f26a7",
   "metadata": {},
   "outputs": [],
   "source": [
    "#3.Write a code to check if given string is palindrome or not"
   ]
  },
  {
   "cell_type": "code",
   "execution_count": 1,
   "id": "eec8a1b1-db9a-4d72-a336-06cf4d692663",
   "metadata": {},
   "outputs": [
    {
     "name": "stdout",
     "output_type": "stream",
     "text": [
      "121 is a palindrome\n"
     ]
    }
   ],
   "source": [
    "def is_palindrome(x):\n",
    "    str_number=str(x)\n",
    "    return str_number==str_number[::-1]\n",
    "num = 121\n",
    "if is_palindrome(num):\n",
    "    print(f\"{num} is a palindrome\")\n",
    "else:\n",
    "    print(f\"{num} is not a palindrome\")"
   ]
  },
  {
   "cell_type": "code",
   "execution_count": null,
   "id": "571971d2-1088-4793-a0e8-5d06d5a85f23",
   "metadata": {},
   "outputs": [],
   "source": [
    "#4. Write a code to check if two given strings are anagrams of each other."
   ]
  },
  {
   "cell_type": "code",
   "execution_count": 2,
   "id": "d4cd8c48-b20d-4b4e-ad8c-f67d3e2b804b",
   "metadata": {},
   "outputs": [
    {
     "name": "stdout",
     "output_type": "stream",
     "text": [
      "\"listen\" and \"silent\" are anagrams\n"
     ]
    }
   ],
   "source": [
    "def are_anagrams(str1, str2):\n",
    "    # Remove spaces and convert to lowercase for case-insensitive comparison\n",
    "    str1 = str1.replace(\" \", \"\").lower()\n",
    "    str2 = str2.replace(\" \", \"\").lower()\n",
    "\n",
    "    # Check if sorted versions of the strings are equal\n",
    "    return sorted(str1) == sorted(str2)\n",
    "\n",
    "# Example usage\n",
    "str1 = \"listen\"\n",
    "str2 = \"silent\"\n",
    "\n",
    "if are_anagrams(str1, str2):\n",
    "    print(f'\"{str1}\" and \"{str2}\" are anagrams')\n",
    "else:\n",
    "    print(f'\"{str1}\" and \"{str2}\" are not anagrams')"
   ]
  },
  {
   "cell_type": "code",
   "execution_count": null,
   "id": "25a0292e-190c-4715-b76a-fcdf345e883a",
   "metadata": {},
   "outputs": [],
   "source": [
    "#5. Write a code to find all occurences of a given substring within other string"
   ]
  },
  {
   "cell_type": "code",
   "execution_count": 14,
   "id": "eea014d4-d281-424b-9d98-c4807cc0262d",
   "metadata": {},
   "outputs": [
    {
     "ename": "IndentationError",
     "evalue": "unindent does not match any outer indentation level (<tokenize>, line 4)",
     "output_type": "error",
     "traceback": [
      "\u001b[0;36m  File \u001b[0;32m<tokenize>:4\u001b[0;36m\u001b[0m\n\u001b[0;31m    while True:\u001b[0m\n\u001b[0m    ^\u001b[0m\n\u001b[0;31mIndentationError\u001b[0m\u001b[0;31m:\u001b[0m unindent does not match any outer indentation level\n"
     ]
    }
   ],
   "source": [
    "def find_all_occurrences(main_string, substring):\n",
    "        occurrences = []\n",
    "        start = 0\n",
    "    while True:\n",
    "        start = main_string.find(substring, start)\n",
    "        if start == -1:\n",
    "               break\n",
    "        occurrences.append(start)\n",
    "        start += 1\n",
    "\n",
    "    return occurrences\n",
    "main_string = \"This is a test string for testing.\"\n",
    "substring = \"test\"\n",
    "\n",
    "result = find_all_occurrences(main_string, substring)\n",
    "print(f\"All occurrences of '{substring}' in the main string: {result}\")"
   ]
  },
  {
   "cell_type": "code",
   "execution_count": null,
   "id": "df1c74ba-868d-4949-aae6-d1c46e03dcf6",
   "metadata": {},
   "outputs": [],
   "source": [
    "#6. Write a code to perform basic string compression using the counts of repeated characters"
   ]
  },
  {
   "cell_type": "code",
   "execution_count": 43,
   "id": "a44d5469-d8f9-4401-85a4-ef95fc8b64de",
   "metadata": {},
   "outputs": [
    {
     "name": "stdout",
     "output_type": "stream",
     "text": [
      "Compressed string: a2b1c5a3\n"
     ]
    }
   ],
   "source": [
    "def compress_string(s):\n",
    "    compressed = []\n",
    "    count = 1\n",
    "    \n",
    "    # Iterate over the string\n",
    "    for i in range(1, len(s)):\n",
    "        # If the current character is the same as the previous one, increment count\n",
    "        if s[i] == s[i - 1]:\n",
    "            count += 1\n",
    "        else:\n",
    "            # If the current character is different, append the previous character and its count\n",
    "            compressed.append(s[i - 1] + str(count))\n",
    "            count = 1\n",
    "    \n",
    "    # Append the last character and its count\n",
    "    compressed.append(s[-1] + str(count))\n",
    "    \n",
    "    # Join the list into a single string\n",
    "    compressed_string = ''.join(compressed)\n",
    "    \n",
    "    # Return the shorter of the compressed string and the original string\n",
    "    return compressed_string if len(compressed_string) < len(s) else s\n",
    "\n",
    "# Example usage\n",
    "string = \"aabcccccaaa\"\n",
    "compressed_string = compress_string(string)\n",
    "print(\"Compressed string:\", compressed_string)"
   ]
  },
  {
   "cell_type": "code",
   "execution_count": null,
   "id": "ffe93400-c90a-41dc-8c7e-75ca47fa703d",
   "metadata": {},
   "outputs": [],
   "source": []
  },
  {
   "cell_type": "code",
   "execution_count": 9,
   "id": "016ec12e-ca2c-4547-b6bd-b7214b3a0db7",
   "metadata": {},
   "outputs": [],
   "source": [
    "#7.Write a code to determine if string has all unique characters"
   ]
  },
  {
   "cell_type": "code",
   "execution_count": 19,
   "id": "fda2dc5e-54b4-422b-9fce-c399d3a1ef86",
   "metadata": {},
   "outputs": [
    {
     "name": "stdout",
     "output_type": "stream",
     "text": [
      "The string 'Mindyourownwork' does not have all unique characters.\n"
     ]
    }
   ],
   "source": [
    "def has_unique_characters(s):\n",
    "    char_set = set()\n",
    "    for char in s:\n",
    "        if char in char_set:\n",
    "            return False\n",
    "        char_set.add(char)\n",
    "    return True\n",
    "string = \"Mindyourownwork\"\n",
    "if has_unique_characters(string):\n",
    "    print(f\"The string '{string}' has all unique characters.\")\n",
    "else:\n",
    "    print(f\"The string '{string}' does not have all unique characters.\")\n"
   ]
  },
  {
   "cell_type": "code",
   "execution_count": 36,
   "id": "19d17949-fbe4-4c45-b889-04fba20059ba",
   "metadata": {},
   "outputs": [],
   "source": [
    "#8.Write a code to convert given string to upper or lower case"
   ]
  },
  {
   "cell_type": "code",
   "execution_count": 38,
   "id": "f6b0e8be-4c40-4f5f-b7e4-ea80b2d769f5",
   "metadata": {},
   "outputs": [
    {
     "name": "stdout",
     "output_type": "stream",
     "text": [
      "YASMEEN IS VERY HARD WORKING AND PUCTUAL\n",
      "yasmeen is very hard working and puctual\n"
     ]
    }
   ],
   "source": [
    "a=\"Yasmeen is very hard working and puctual\"\n",
    "print(a.upper())\n",
    "print(a.lower())"
   ]
  },
  {
   "cell_type": "code",
   "execution_count": 20,
   "id": "416f4bae-0d11-4dd0-84ff-d20038648a4b",
   "metadata": {},
   "outputs": [],
   "source": [
    "#9.Write a code to count the number of words in a string"
   ]
  },
  {
   "cell_type": "code",
   "execution_count": 42,
   "id": "60cc6569-68cc-4afb-a16e-2f3e38211a37",
   "metadata": {},
   "outputs": [
    {
     "name": "stdout",
     "output_type": "stream",
     "text": [
      "3\n"
     ]
    }
   ],
   "source": [
    "str=(\"Time is priceless\")\n",
    "print(len(str.split()))"
   ]
  },
  {
   "cell_type": "code",
   "execution_count": 39,
   "id": "f14addcf-7678-4a88-bf12-9826624b914f",
   "metadata": {},
   "outputs": [],
   "source": [
    "#10.Write a code to concatenate two strings without using the + operator"
   ]
  },
  {
   "cell_type": "code",
   "execution_count": 9,
   "id": "e6e42876-44fc-4d27-9b14-c6c74ef53ba0",
   "metadata": {},
   "outputs": [
    {
     "name": "stdout",
     "output_type": "stream",
     "text": [
      "Concatenated strings: Hello world How are you\n"
     ]
    }
   ],
   "source": [
    "a= \"Hello world\"\n",
    "b= \"How are you\"\n",
    "print(\"Concatenated strings:\", a+\" \"+b)"
   ]
  },
  {
   "cell_type": "code",
   "execution_count": null,
   "id": "b36a7ac3-7276-430c-832b-c437e9d34a53",
   "metadata": {},
   "outputs": [],
   "source": [
    "#11. Write a code to remove all occurrences of specific element from list"
   ]
  },
  {
   "cell_type": "code",
   "execution_count": 4,
   "id": "b6cee38c-4620-46f3-b72f-67f44cd87679",
   "metadata": {},
   "outputs": [
    {
     "name": "stdout",
     "output_type": "stream",
     "text": [
      "['a', 'b', '1', '2', '3', '4']\n"
     ]
    }
   ],
   "source": [
    "lst=['a','b','1','2','3','4','yasm']\n",
    "lst.remove(\"yasm\")\n",
    "print(lst)"
   ]
  },
  {
   "cell_type": "code",
   "execution_count": null,
   "id": "2baf08c6-c831-4c4b-b910-c03a920427bd",
   "metadata": {},
   "outputs": [],
   "source": [
    "#12. Implement a code to find the second largest number in a given list of integers"
   ]
  },
  {
   "cell_type": "code",
   "execution_count": 21,
   "id": "0c847f69-3859-4ee1-88d4-469f4a183439",
   "metadata": {},
   "outputs": [
    {
     "name": "stdout",
     "output_type": "stream",
     "text": [
      "The second largest number in the list is 20\n"
     ]
    }
   ],
   "source": [
    "def find_second_largest(numbers):\n",
    "    if len(numbers) < 2:\n",
    "        return None  # Not enough elements for second largest\n",
    "\n",
    "    # Initialize the first and second largest numbers\n",
    "    first_largest = second_largest = float('-inf')\n",
    "    \n",
    "    for num in numbers:\n",
    "        if num > first_largest:\n",
    "            second_largest = first_largest\n",
    "            first_largest = num\n",
    "        elif first_largest > num > second_largest:\n",
    "            second_largest = num\n",
    "    \n",
    "    return second_largest if second_largest != float('-inf') else None\n",
    "\n",
    "# Example usage\n",
    "numbers = [10, 5, 23, 8, 12, 17, 20]\n",
    "second_largest = find_second_largest(numbers)\n",
    "if second_largest is not None:\n",
    "    print(f\"The second largest number in the list is {second_largest}\")\n",
    "else:\n",
    "    print(\"The list does not have enough unique elements to determine the second largest number.\")"
   ]
  },
  {
   "cell_type": "code",
   "execution_count": null,
   "id": "a8cce04f-13a3-488a-94fb-2c7e89c8ee95",
   "metadata": {},
   "outputs": [],
   "source": [
    "#13.Create a code to count the occurences of each element in list and return a dictionay with element as their key and count as their values"
   ]
  },
  {
   "cell_type": "code",
   "execution_count": 23,
   "id": "0fbf59ec-aad9-4a9e-b534-8cd29ed6434a",
   "metadata": {},
   "outputs": [
    {
     "name": "stdout",
     "output_type": "stream",
     "text": [
      "{1: 1, 2: 2, 3: 3, 4: 4}\n"
     ]
    }
   ],
   "source": [
    "def count_occurrences(lst):\n",
    "    # Initialize an empty dictionary to store the counts\n",
    "    counts = {}\n",
    "    \n",
    "    # Iterate over each element in the list\n",
    "    for element in lst:\n",
    "        # If the element is already a key in the dictionary, increment its count\n",
    "        if element in counts:\n",
    "            counts[element] += 1\n",
    "        # If the element is not in the dictionary, add it with a count of 1\n",
    "        else:\n",
    "            counts[element] = 1\n",
    "            \n",
    "    return counts\n",
    "\n",
    "# Example usage\n",
    "lst = [1, 2, 2, 3, 3, 3, 4, 4, 4, 4]\n",
    "result = count_occurrences(lst)\n",
    "print(result)\n"
   ]
  },
  {
   "cell_type": "code",
   "execution_count": null,
   "id": "cfe5399e-087e-4986-8939-bd2929ffd94a",
   "metadata": {},
   "outputs": [],
   "source": [
    "#14. Write a code to reverse a list in-place without using in built-in reverse function"
   ]
  },
  {
   "cell_type": "code",
   "execution_count": 44,
   "id": "bce82492-91e3-46ce-9fb5-587f9664471f",
   "metadata": {},
   "outputs": [
    {
     "name": "stdout",
     "output_type": "stream",
     "text": [
      "Reversed list: [5, 4, 3, 2, 1]\n"
     ]
    }
   ],
   "source": [
    "def reverse_list_in_place(lst):\n",
    "    # Get the length of the list\n",
    "    n = len(lst)\n",
    "    \n",
    "    # Iterate over the first half of the list\n",
    "    for i in range(n // 2):\n",
    "        # Swap elements from the beginning and end of the list\n",
    "        lst[i], lst[n - i - 1] = lst[n - i - 1], lst[i]\n",
    "\n",
    "# Example usage\n",
    "my_list = [1, 2, 3, 4, 5]\n",
    "reverse_list_in_place(my_list)\n",
    "print(\"Reversed list:\", my_list)"
   ]
  },
  {
   "cell_type": "code",
   "execution_count": null,
   "id": "67403535-ce73-4583-ac8a-97927a2a31a7",
   "metadata": {},
   "outputs": [],
   "source": [
    "#15.Implement a code to find and remove duplicates from a list while preserving the original order of the element"
   ]
  },
  {
   "cell_type": "code",
   "execution_count": 33,
   "id": "af82689c-7ea0-4f80-9f6e-ea090d001f04",
   "metadata": {},
   "outputs": [
    {
     "data": {
      "text/plain": [
       "[1, 4, 5, 6, 2, 3, 8, 9]"
      ]
     },
     "execution_count": 33,
     "metadata": {},
     "output_type": "execute_result"
    }
   ],
   "source": [
    "a=[1,4,5,6,2,3,1,2,3,8,9]\n",
    "list(dict.fromkeys(a))"
   ]
  },
  {
   "cell_type": "code",
   "execution_count": null,
   "id": "a722ce7e-ff85-4bb6-809e-9d3dbcfdf174",
   "metadata": {},
   "outputs": [],
   "source": [
    "#16. Create a code to check if a given list is sorted (either in ascending or descending order) or not"
   ]
  },
  {
   "cell_type": "code",
   "execution_count": 41,
   "id": "94c368c5-33c7-4a7d-8d49-08c1a1ffd195",
   "metadata": {},
   "outputs": [
    {
     "name": "stdout",
     "output_type": "stream",
     "text": [
      "Given list :  [11, 23, 42, 51, 67]\n",
      "Yes, List is sorted.\n"
     ]
    }
   ],
   "source": [
    "listA = [11,23,42,51,67]\n",
    "print(\"Given list : \",listA)\n",
    "listA_copy = listA[:]\n",
    "listA_copy.sort()\n",
    "if (listA == listA_copy):\n",
    "   print(\"Yes, List is sorted.\")\n",
    "else:\n",
    "   print(\"No, List is not sorted\")        "
   ]
  },
  {
   "cell_type": "code",
   "execution_count": 43,
   "id": "587abd22-8088-4471-95bb-fd5a7c77a912",
   "metadata": {},
   "outputs": [],
   "source": [
    "#17. Write a code to merge two sorted lists into a single sorted list"
   ]
  },
  {
   "cell_type": "code",
   "execution_count": 34,
   "id": "1750a8be-90a4-4e70-a7dd-842bdbcf9369",
   "metadata": {},
   "outputs": [
    {
     "data": {
      "text/plain": [
       "[0, 1, 2, 3, 4, 5, 6, 7, 8, 9]"
      ]
     },
     "execution_count": 34,
     "metadata": {},
     "output_type": "execute_result"
    }
   ],
   "source": [
    "a= [5,8,9,4,3]\n",
    "b= [7,2,6,0,1]\n",
    "s1=sorted(a)\n",
    "s2=sorted(b)\n",
    "\n",
    "s1.extend(s2)\n",
    "sorted((s1))\n"
   ]
  },
  {
   "cell_type": "code",
   "execution_count": null,
   "id": "f5625a46-1770-4708-adad-f3eae0cdf362",
   "metadata": {},
   "outputs": [],
   "source": [
    "#18.Implement a code to find the intersection of two given lists"
   ]
  },
  {
   "cell_type": "code",
   "execution_count": 8,
   "id": "1df43bbc-e767-46a2-9090-0e5a94ccbee2",
   "metadata": {},
   "outputs": [
    {
     "name": "stdout",
     "output_type": "stream",
     "text": [
      "{44, 54}\n"
     ]
    }
   ],
   "source": [
    "x={23,45,44,54,8,90}\n",
    "y={89,44,34,33,56,54}\n",
    "print(x.intersection(y))"
   ]
  },
  {
   "cell_type": "code",
   "execution_count": null,
   "id": "b89b1ed1-dda2-450c-b10e-fdf4d321726d",
   "metadata": {},
   "outputs": [],
   "source": [
    "#19. Create a code to find the union of two lists without duplicates"
   ]
  },
  {
   "cell_type": "code",
   "execution_count": 7,
   "id": "0df2e65e-896b-498b-a72e-a57a4ff7d772",
   "metadata": {},
   "outputs": [
    {
     "name": "stdout",
     "output_type": "stream",
     "text": [
      "{33, 34, 8, 44, 45, 54, 23, 56, 89, 90}\n"
     ]
    }
   ],
   "source": [
    "x={23,45,54,8,90}\n",
    "y={89,44,34,33,56}\n",
    "print(x.union(y))"
   ]
  },
  {
   "cell_type": "code",
   "execution_count": null,
   "id": "4c950458-65e1-4dbc-9005-a8f1e3d627e6",
   "metadata": {},
   "outputs": [],
   "source": [
    "#20. Write a code to shuffle a given list randomly without using any built in shuffle functions"
   ]
  },
  {
   "cell_type": "code",
   "execution_count": 24,
   "id": "48f8c555-683b-4577-82aa-9d5c709b2da1",
   "metadata": {},
   "outputs": [
    {
     "name": "stdout",
     "output_type": "stream",
     "text": [
      "Original list: [1, 2, 3, 4, 5, 6, 7, 8, 9, 10]\n",
      "Shuffled list: [2, 1, 9, 6, 7, 8, 4, 10, 5, 3]\n"
     ]
    }
   ],
   "source": [
    "import random\n",
    "\n",
    "def shuffle_list(lst):\n",
    "    # Get the length of the list\n",
    "    n = len(lst)\n",
    "    \n",
    "    # Iterate over the list from the end to the beginning\n",
    "    for i in range(n-1, 0, -1):\n",
    "        # Pick a random index from 0 to i\n",
    "        j = random.randint(0, i)\n",
    "        \n",
    "        # Swap the elements at indices i and j\n",
    "        lst[i], lst[j] = lst[j], lst[i]\n",
    "    \n",
    "    return lst\n",
    "\n",
    "# Example usage\n",
    "lst = [1, 2, 3, 4, 5, 6, 7, 8, 9, 10]\n",
    "shuffled_lst = shuffle_list(lst.copy())\n",
    "print(f\"Original list: {lst}\")\n",
    "print(f\"Shuffled list: {shuffled_lst}\")"
   ]
  },
  {
   "cell_type": "code",
   "execution_count": null,
   "id": "e7996c35-a20c-4a84-b1b3-3ad743531f42",
   "metadata": {},
   "outputs": [],
   "source": [
    "#21. Write a code that takes two tuples as input and returns a new tuple containing elements that are common to both input tuples"
   ]
  },
  {
   "cell_type": "code",
   "execution_count": 26,
   "id": "5fa831a2-c1fa-4122-9b12-6efb168bce87",
   "metadata": {},
   "outputs": [
    {
     "name": "stdout",
     "output_type": "stream",
     "text": [
      "Common elements: (44, 15)\n"
     ]
    }
   ],
   "source": [
    "def common_elements(tuple1, tuple2):\n",
    "   \n",
    "    common_elements_tuple = tuple(element for element in tuple1 if element in tuple2)\n",
    "    return common_elements_tuple\n",
    "\n",
    "# Example usage\n",
    "tuple1 = (1, 20, 13, 44, 15)\n",
    "tuple2 = (44, 15, 6, 70, 80)\n",
    "result = common_elements(tuple1, tuple2)\n",
    "print(\"Common elements:\", result)"
   ]
  },
  {
   "cell_type": "code",
   "execution_count": null,
   "id": "e65f68b2-b3c6-48a5-a0b7-669036d5d9fc",
   "metadata": {},
   "outputs": [],
   "source": [
    "#22. Create a code that prompts the user ro enter two sets of integer separated by commas. then print the intersection of the two set"
   ]
  },
  {
   "cell_type": "code",
   "execution_count": 27,
   "id": "ca81d385-0744-4b1d-a547-13ddeccf7581",
   "metadata": {},
   "outputs": [
    {
     "name": "stdout",
     "output_type": "stream",
     "text": [
      "Enter the first set:\n"
     ]
    },
    {
     "name": "stdin",
     "output_type": "stream",
     "text": [
      "Enter a set of integers separated by commas:  10,20,15,16,14,80\n"
     ]
    },
    {
     "name": "stdout",
     "output_type": "stream",
     "text": [
      "\n",
      "Enter the second set:\n"
     ]
    },
    {
     "name": "stdin",
     "output_type": "stream",
     "text": [
      "Enter a set of integers separated by commas:  45,15,21,14,80\n"
     ]
    },
    {
     "name": "stdout",
     "output_type": "stream",
     "text": [
      "\n",
      "Intersection of the two sets: {80, 14, 15}\n"
     ]
    }
   ],
   "source": [
    "def get_set_from_input():\n",
    "    # Prompt the user to enter a set of integers separated by commas\n",
    "    input_string = input(\"Enter a set of integers separated by commas: \")\n",
    "    # Split the input string by commas and convert each element to an integer\n",
    "    integer_list = [int(x) for x in input_string.split(\",\")]\n",
    "    # Create a set from the list of integers\n",
    "    input_set = set(integer_list)\n",
    "    return input_set\n",
    "\n",
    "# Prompt the user to enter the first set\n",
    "print(\"Enter the first set:\")\n",
    "set1 = get_set_from_input()\n",
    "\n",
    "# Prompt the user to enter the second set\n",
    "print(\"\\nEnter the second set:\")\n",
    "set2 = get_set_from_input()\n",
    "\n",
    "# Calculate the intersection of the two sets\n",
    "intersection = set1.intersection(set2)\n",
    "\n",
    "# Print the intersection\n",
    "print(\"\\nIntersection of the two sets:\", intersection)"
   ]
  },
  {
   "cell_type": "code",
   "execution_count": null,
   "id": "cc93a1e3-e10b-417c-bec0-febb69e5d4bd",
   "metadata": {},
   "outputs": [],
   "source": [
    "#23.Write a code to concatenate two tuples The function should take two tuples as input and return a new tuple containing elements from both input tuple\u001d",
    "."
   ]
  },
  {
   "cell_type": "code",
   "execution_count": 29,
   "id": "ec7e77c2-0701-4ed9-bfee-0d5ffa605124",
   "metadata": {},
   "outputs": [
    {
     "name": "stdout",
     "output_type": "stream",
     "text": [
      "Concatenated tuple: (10, 12, 33, 41, 57, 66)\n"
     ]
    }
   ],
   "source": [
    "def concatenate_tuples(tuple1, tuple2):\n",
    "    # Concatenate the two tuples using the '+' operator\n",
    "    concatenated_tuple = tuple1 + tuple2\n",
    "    return concatenated_tuple\n",
    "\n",
    "# Example usage\n",
    "tuple1 = (10, 12, 33)\n",
    "tuple2 = (41, 57, 66)\n",
    "result = concatenate_tuples(tuple1, tuple2)\n",
    "print(\"Concatenated tuple:\", result)"
   ]
  },
  {
   "cell_type": "code",
   "execution_count": null,
   "id": "967047ab-8088-4818-84fe-f1d557e30550",
   "metadata": {},
   "outputs": [],
   "source": [
    "#24. Develop a code that prompts the user to input two sets of strings. Then print the elements that are present in the first set but not in the second set"
   ]
  },
  {
   "cell_type": "code",
   "execution_count": 30,
   "id": "96fad303-280a-47e3-9228-cf10e965cfec",
   "metadata": {},
   "outputs": [
    {
     "name": "stdout",
     "output_type": "stream",
     "text": [
      "Enter the first set of strings:\n"
     ]
    },
    {
     "name": "stdin",
     "output_type": "stream",
     "text": [
      "Enter a set of strings separated by commas:  15,26,14,48\n"
     ]
    },
    {
     "name": "stdout",
     "output_type": "stream",
     "text": [
      "\n",
      "Enter the second set of strings:\n"
     ]
    },
    {
     "name": "stdin",
     "output_type": "stream",
     "text": [
      "Enter a set of strings separated by commas:  15,48,7,96\n"
     ]
    },
    {
     "name": "stdout",
     "output_type": "stream",
     "text": [
      "\n",
      "Elements present in the first set but not in the second set: {'14', '26'}\n"
     ]
    }
   ],
   "source": [
    "def get_set_from_input():\n",
    "    input_string = input(\"Enter a set of strings separated by commas: \")\n",
    "    input_set = set(input_string.split(\",\"))\n",
    "    return input_set\n",
    "\n",
    "print(\"Enter the first set of strings:\")\n",
    "set1 = get_set_from_input()\n",
    "\n",
    "print(\"\\nEnter the second set of strings:\")\n",
    "set2 = get_set_from_input()\n",
    "\n",
    "difference_set = set1 - set2\n",
    "\n",
    "print(\"Elements present in the first set but not in the second set:\", difference_set)"
   ]
  },
  {
   "cell_type": "code",
   "execution_count": null,
   "id": "68d8de8d-41db-4506-9d78-96d7b12c2a6e",
   "metadata": {},
   "outputs": [],
   "source": [
    "#25. Create a code that takes a tuple and two integers as input. Thefunction should reurn a new tuple containing elements from the original tuple within the specified range of indices"
   ]
  },
  {
   "cell_type": "code",
   "execution_count": 31,
   "id": "97a39b79-fe12-45f0-8bfa-f3d439b6a36e",
   "metadata": {},
   "outputs": [
    {
     "name": "stdout",
     "output_type": "stream",
     "text": [
      "Extracted tuple: (3, 4, 5, 6)\n"
     ]
    }
   ],
   "source": [
    "def extract_elements_in_range(original_tuple, start_index, end_index):\n",
    "    if start_index < 0 or end_index >= len(original_tuple):\n",
    "        return None  \n",
    "    extracted_tuple = original_tuple[start_index:end_index + 1]\n",
    "    return tuple(extracted_tuple)\n",
    "\n",
    "original_tuple = (1, 2, 3, 4, 5, 6, 7, 8, 9, 10)\n",
    "start_index = 2\n",
    "end_index = 5\n",
    "result = extract_elements_in_range(original_tuple, start_index, end_index)\n",
    "print(\"Extracted tuple:\", result)"
   ]
  },
  {
   "cell_type": "code",
   "execution_count": null,
   "id": "072fd39f-45ff-4f42-8ca5-7e3e8ce29ed1",
   "metadata": {},
   "outputs": [],
   "source": [
    "#26.Write a code that prompts the user to input two sets of characters. Then print the union of these two sets"
   ]
  },
  {
   "cell_type": "code",
   "execution_count": 33,
   "id": "79292ae8-99ac-4de1-be52-f2c0c2645e54",
   "metadata": {},
   "outputs": [
    {
     "name": "stdout",
     "output_type": "stream",
     "text": [
      "Enter the first set of characters:\n"
     ]
    },
    {
     "name": "stdin",
     "output_type": "stream",
     "text": [
      "Enter a set of characters separated by commas:  15,2\n"
     ]
    },
    {
     "name": "stdout",
     "output_type": "stream",
     "text": [
      "\n",
      "Enter the second set of characters:\n"
     ]
    },
    {
     "name": "stdin",
     "output_type": "stream",
     "text": [
      "Enter a set of characters separated by commas:  2,16,4\n"
     ]
    },
    {
     "name": "stdout",
     "output_type": "stream",
     "text": [
      "\n",
      "Union of the two sets: {'4', ',', '6', '1', '5', '2'}\n"
     ]
    }
   ],
   "source": [
    "def get_set_from_input():\n",
    "    input_string = input(\"Enter a set of characters separated by commas: \")\n",
    "    input_set = set(input_string)\n",
    "    return input_set\n",
    "\n",
    "print(\"Enter the first set of characters:\")\n",
    "set1 = get_set_from_input()\n",
    "\n",
    "print(\"\\nEnter the second set of characters:\")\n",
    "set2 = get_set_from_input()\n",
    "\n",
    "union_set = set1.union(set2)\n",
    "\n",
    "print(\"\\nUnion of the two sets:\", union_set)"
   ]
  },
  {
   "cell_type": "code",
   "execution_count": null,
   "id": "bf51df9c-46cf-4182-bc84-be88caa858ea",
   "metadata": {},
   "outputs": [],
   "source": []
  },
  {
   "cell_type": "code",
   "execution_count": null,
   "id": "53d146a0-3bab-4258-a82e-45c616dcf33a",
   "metadata": {},
   "outputs": [],
   "source": [
    "#27.Develop a code that takes a tuple of integers as input. The function should return the maximum and minimum values from the tuple using tuple unpacking"
   ]
  },
  {
   "cell_type": "code",
   "execution_count": 35,
   "id": "9fb0e87c-0b66-4686-bc94-096916d1855f",
   "metadata": {},
   "outputs": [
    {
     "name": "stdout",
     "output_type": "stream",
     "text": [
      "Maximum value: 112\n",
      "Minimum value: 5\n"
     ]
    }
   ],
   "source": [
    "def find_max_min_values(input_tuple):\n",
    "    # Use tuple unpacking to find the maximum and minimum values\n",
    "    max_value = max(input_tuple)\n",
    "    min_value = min(input_tuple)\n",
    "    return max_value, min_value\n",
    "\n",
    "# Example usage\n",
    "input_tuple = (10, 5, 27, 9, 112, 15, 20)\n",
    "max_value, min_value = find_max_min_values(input_tuple)\n",
    "print(\"Maximum value:\", max_value)\n",
    "print(\"Minimum value:\", min_value)"
   ]
  },
  {
   "cell_type": "code",
   "execution_count": null,
   "id": "597ce771-395c-43ae-b419-5d2be7cb7814",
   "metadata": {},
   "outputs": [],
   "source": [
    "#28. Create a code that defines two sets of integers. Then print the union intersection and difference of these two sets"
   ]
  },
  {
   "cell_type": "code",
   "execution_count": 3,
   "id": "2a416165-0ae8-4c85-af24-0d2ca362335f",
   "metadata": {},
   "outputs": [
    {
     "name": "stdout",
     "output_type": "stream",
     "text": [
      "{0, 1, 2, 3, 4, 5, 6, 7, 8}\n",
      "{1, 3, 4, 5, 6, 7, 8}\n",
      "{2}\n"
     ]
    }
   ],
   "source": [
    "s1={1,2,3,4,5,6,7,8}\n",
    "s2={1,3,4,5,8,0,6,7}\n",
    "print(\"Union of two sets:\", s1.union(s2))\n",
    "print(\"Unio of two sets:\", s1.intersection(s2))\n",
    "print(s1.difference(s2))"
   ]
  },
  {
   "cell_type": "code",
   "execution_count": 4,
   "id": "2e3598f8-c45d-44a0-b1a4-2ae12fc31fe8",
   "metadata": {},
   "outputs": [
    {
     "ename": "SyntaxError",
     "evalue": "invalid syntax (1996657236.py, line 2)",
     "output_type": "error",
     "traceback": [
      "\u001b[0;36m  Cell \u001b[0;32mIn[4], line 2\u001b[0;36m\u001b[0m\n\u001b[0;31m    of the given element in the tuple\u001b[0m\n\u001b[0m       ^\u001b[0m\n\u001b[0;31mSyntaxError\u001b[0m\u001b[0;31m:\u001b[0m invalid syntax\n"
     ]
    }
   ],
   "source": [
    "#29.Write a code that takes a tuple and an element as input. The function should return the count of occurrencesof the given element in the tuple"
   ]
  },
  {
   "cell_type": "code",
   "execution_count": 36,
   "id": "62992385-4d1d-4f3b-adfd-4f5ae29b4349",
   "metadata": {},
   "outputs": [],
   "source": [
    "def count_occurences(tup,element):\n",
    "    return tup.count(element)"
   ]
  },
  {
   "cell_type": "code",
   "execution_count": 37,
   "id": "2334becc-322d-42a0-9aa6-b0e815a2a9e4",
   "metadata": {},
   "outputs": [
    {
     "data": {
      "text/plain": [
       "2"
      ]
     },
     "execution_count": 37,
     "metadata": {},
     "output_type": "execute_result"
    }
   ],
   "source": [
    "count_occurences((1,32,5,6,8,7,2,3,1),1)"
   ]
  },
  {
   "cell_type": "code",
   "execution_count": null,
   "id": "e382ffb5-6c51-4db6-90bc-62663159246a",
   "metadata": {},
   "outputs": [],
   "source": [
    "#30. develop a code that prompts the user to input two sets of strings. Then print the symmetric difference of these two sets"
   ]
  },
  {
   "cell_type": "code",
   "execution_count": 50,
   "id": "c5e66a79-3d70-4eea-ab9e-b57c5fac9a32",
   "metadata": {},
   "outputs": [
    {
     "data": {
      "text/plain": [
       "{0, 1, 2, 4, 5, 6, 7, 9}"
      ]
     },
     "execution_count": 50,
     "metadata": {},
     "output_type": "execute_result"
    }
   ],
   "source": [
    "s1={3,5,6,8,9,7}\n",
    "s2={4,2,1,8,0,3}\n",
    "s1.symmetric_difference(s2)"
   ]
  },
  {
   "cell_type": "code",
   "execution_count": null,
   "id": "1ae9742b-4247-4b31-9466-410a14dfa2a2",
   "metadata": {},
   "outputs": [],
   "source": [
    "#31.Write a code that takes a list of words as input and returns a dictionary where the keys are unique words and the values are the frequencies of those words in the input list."
   ]
  },
  {
   "cell_type": "code",
   "execution_count": 38,
   "id": "491cc3c7-09ba-47b8-a1d1-cdc706b2fe22",
   "metadata": {},
   "outputs": [
    {
     "name": "stdout",
     "output_type": "stream",
     "text": [
      "Word frequency dictionary:\n",
      "{'apple': 4, 'banana': 2, 'orange': 1}\n"
     ]
    }
   ],
   "source": [
    "def word_frequency(words_list):\n",
    "    frequency_dict = {}\n",
    "    for word in words_list:\n",
    "        if word in frequency_dict:\n",
    "            frequency_dict[word] += 1\n",
    "        else:\n",
    "            frequency_dict[word] = 1\n",
    "    \n",
    "    return frequency_dict\n",
    "\n",
    "\n",
    "words_list = [\"apple\", \"banana\", \"apple\", \"orange\", \"banana\", \"apple\", \"apple\"]\n",
    "frequency_dict = word_frequency(words_list)\n",
    "print(\"Word frequency dictionary:\")\n",
    "print(frequency_dict)"
   ]
  },
  {
   "cell_type": "code",
   "execution_count": null,
   "id": "8ba8acf0-2dc9-4b11-b129-6e07652885e3",
   "metadata": {},
   "outputs": [],
   "source": [
    "#32.  Write a code that takes two dictionaries as input and merges them into a single dictionary. If there are common keys the values should be added together"
   ]
  },
  {
   "cell_type": "code",
   "execution_count": 39,
   "id": "a8ce3f50-7eca-42d3-bdbd-d778f61f0492",
   "metadata": {},
   "outputs": [
    {
     "name": "stdout",
     "output_type": "stream",
     "text": [
      "Merged dictionary:\n",
      "{'apple': 5, 'banana': 3, 'orange': 1, 'grape': 4}\n"
     ]
    }
   ],
   "source": [
    "def merge_dictionaries(dict1, dict2):\n",
    "    # Create a new dictionary to store the merged result\n",
    "    merged_dict = dict(dict1)\n",
    "    \n",
    "    # Merge the second dictionary into the merged dictionary\n",
    "    for key, value in dict2.items():\n",
    "        if key in merged_dict:\n",
    "            merged_dict[key] += value\n",
    "        else:\n",
    "            merged_dict[key] = value\n",
    "    \n",
    "    return merged_dict\n",
    "\n",
    "# Example usage\n",
    "dict1 = {'apple': 3, 'banana': 2, 'orange': 1}\n",
    "dict2 = {'apple': 2, 'banana': 1, 'grape': 4}\n",
    "merged_dict = merge_dictionaries(dict1, dict2)\n",
    "print(\"Merged dictionary:\")\n",
    "print(merged_dict)"
   ]
  },
  {
   "cell_type": "code",
   "execution_count": null,
   "id": "7face19c-6bc7-40de-beec-5d411174ff8e",
   "metadata": {},
   "outputs": [],
   "source": [
    "#33.Write a code to access a value in a nested dictionary. The function should take the dictionary and a list of keys as input and return the corresponding value. If any of the keys do not exist in the dictionary the function should return None."
   ]
  },
  {
   "cell_type": "code",
   "execution_count": 40,
   "id": "b1003b41-fd1b-4900-95c9-cecd3b6d02d4",
   "metadata": {},
   "outputs": [
    {
     "name": "stdout",
     "output_type": "stream",
     "text": [
      "Value: 10\n"
     ]
    }
   ],
   "source": [
    "def access_nested_value(dictionary, keys_list):\n",
    "    # Initialize current level as the input dictionary\n",
    "    current_level = dictionary\n",
    "    \n",
    "    # Iterate over each key in the keys list\n",
    "    for key in keys_list:\n",
    "        # Check if the current key exists in the current level\n",
    "        if key in current_level:\n",
    "            # Update the current level to the value corresponding to the current key\n",
    "            current_level = current_level[key]\n",
    "        else:\n",
    "            # If any of the keys do not exist, return None\n",
    "            return None\n",
    "    \n",
    "    # Return the value corresponding to the last key in the keys list\n",
    "    return current_level\n",
    "\n",
    "# Example usage\n",
    "nested_dict = {\n",
    "    'a': {\n",
    "        'b': {\n",
    "            'c': 10\n",
    "        }\n",
    "    }\n",
    "}\n",
    "keys_list = ['a', 'b', 'c']\n",
    "value = access_nested_value(nested_dict, keys_list)\n",
    "print(\"Value:\", value)"
   ]
  },
  {
   "cell_type": "code",
   "execution_count": null,
   "id": "c3227431-a025-4c5c-81ac-a77b85563867",
   "metadata": {},
   "outputs": [],
   "source": [
    "#34.Write a code that takes a dictionary as input and returns a sorted version of it based onthe values. You can choose whether to sort in ascending or descending order."
   ]
  },
  {
   "cell_type": "code",
   "execution_count": 41,
   "id": "23eb508a-519c-4aea-9c47-38f96839da02",
   "metadata": {},
   "outputs": [
    {
     "name": "stdout",
     "output_type": "stream",
     "text": [
      "Sorted dictionary (ascending order):\n",
      "{'banana': 2, 'grape': 3, 'apple': 5, 'orange': 8}\n"
     ]
    }
   ],
   "source": [
    "def sort_dict_by_values(dictionary, reverse=False):\n",
    "    # Sort the dictionary by values\n",
    "    sorted_dict = dict(sorted(dictionary.items(), key=lambda item: item[1], reverse=reverse))\n",
    "    return sorted_dict\n",
    "\n",
    "# Example usage\n",
    "my_dict = {'apple': 5, 'banana': 2, 'orange': 8, 'grape': 3}\n",
    "sorted_dict = sort_dict_by_values(my_dict)\n",
    "print(\"Sorted dictionary (ascending order):\")\n",
    "print(sorted_dict)"
   ]
  },
  {
   "cell_type": "code",
   "execution_count": null,
   "id": "b4922b9d-72bf-43a3-9f98-160058e402d0",
   "metadata": {},
   "outputs": [],
   "source": [
    "#35. Write a code that inverts a dictionary swapping keys and values. Ensure that the inverted dictionary correctly handles cases where multiple keys have the same values by storing the values as a list in the inverted dictionary."
   ]
  },
  {
   "cell_type": "code",
   "execution_count": 42,
   "id": "73be9b3c-ce01-4a44-8c34-27aef13dd89e",
   "metadata": {},
   "outputs": [
    {
     "name": "stdout",
     "output_type": "stream",
     "text": [
      "Inverted dictionary:\n",
      "{1: ['a', 'c'], 2: ['b', 'e'], 3: ['d']}\n"
     ]
    }
   ],
   "source": [
    "def invert_dict(dictionary):\n",
    "    inverted_dict = {}\n",
    "    for key, value in dictionary.items():\n",
    "        if value in inverted_dict:\n",
    "            # If the value is already in the inverted dictionary,\n",
    "            # append the key to the list of keys associated with that value\n",
    "            inverted_dict[value].append(key)\n",
    "        else:\n",
    "            # If the value is not in the inverted dictionary,\n",
    "            # create a new list with the key as the only element\n",
    "            inverted_dict[value] = [key]\n",
    "    return inverted_dict\n",
    "\n",
    "# Example usage\n",
    "my_dict = {'a': 1, 'b': 2, 'c': 1, 'd': 3, 'e': 2}\n",
    "inverted_dict = invert_dict(my_dict)\n",
    "print(\"Inverted dictionary:\")\n",
    "print(inverted_dict)"
   ]
  },
  {
   "cell_type": "code",
   "execution_count": null,
   "id": "84a5d14f-1617-4b16-9472-4c4d1517beb8",
   "metadata": {},
   "outputs": [],
   "source": []
  }
 ],
 "metadata": {
  "kernelspec": {
   "display_name": "Python 3 (ipykernel)",
   "language": "python",
   "name": "python3"
  },
  "language_info": {
   "codemirror_mode": {
    "name": "ipython",
    "version": 3
   },
   "file_extension": ".py",
   "mimetype": "text/x-python",
   "name": "python",
   "nbconvert_exporter": "python",
   "pygments_lexer": "ipython3",
   "version": "3.10.8"
  }
 },
 "nbformat": 4,
 "nbformat_minor": 5
}
